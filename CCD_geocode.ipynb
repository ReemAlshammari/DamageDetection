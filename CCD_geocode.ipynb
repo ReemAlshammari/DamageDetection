{
 "cells": [
  {
   "cell_type": "code",
   "execution_count": null,
   "id": "fd3f34a8",
   "metadata": {},
   "outputs": [],
   "source": [
    "    from osgeo import gdal\n",
    "    import numpy as np\n",
    "    #from mpl_toolkits.basemap import Basemap\n",
    "    from scipy.interpolate import griddata\n",
    "    import matplotlib.pyplot as plt\n",
    "    from scipy import interpolate\n",
    "    import rasterio\n"
   ]
  },
  {
   "cell_type": "code",
   "execution_count": null,
   "id": "45eaaac7",
   "metadata": {},
   "outputs": [],
   "source": [
    "# geocode isce output by : \n",
    "#geocodeGdal.py  -l ../../geom_reference/lat.rdr -L ../../geom_reference/lon.rdr -f filt_fine.cor  --tiff -b '36.9295 37.1364 37.269  37.5232'\n",
    "#then take coordinates and add it to the new CCD output \n",
    "    \n",
    "    filepath67 = r\"/geo_filt_fine.cor\"\n",
    "    filepath68 = r\"/geo_filt_fine.cor\"\n",
    "\n",
    "    ds67 = np.array(gdal.Open(filepath67).ReadAsArray())\n",
    "    ds68 = np.array(gdal.Open(filepath68).ReadAsArray())\n",
    "    CCD=ds68-ds67\n",
    "    CCD_slice=CCD[0]\n",
    "    \n",
    "    UAV_image = rasterio.open('/geo_filt_fine.cor.vrt')\n",
    "\n",
    "    new_tif = rasterio.open('CCD.tiff','w',\n",
    "                            driver='Gtiff',\n",
    "                            height = UAV_image.height,\n",
    "                            width = UAV_image.width, \n",
    "                            count = 1,\n",
    "                            crs = UAV_image.crs,\n",
    "                            transform = UAV_image.transform, \n",
    "                            dtype = 'float32')\n",
    "\n",
    "    new_tif.write(CCD_slice, 1) #result from calculations\n",
    "    UAV_image.close()\n",
    "    new_tif.close()\n",
    "  "
   ]
  }
 ],
 "metadata": {
  "kernelspec": {
   "display_name": "Python 3 (ipykernel)",
   "language": "python",
   "name": "python3"
  },
  "language_info": {
   "codemirror_mode": {
    "name": "ipython",
    "version": 3
   },
   "file_extension": ".py",
   "mimetype": "text/x-python",
   "name": "python",
   "nbconvert_exporter": "python",
   "pygments_lexer": "ipython3",
   "version": "3.8.12"
  }
 },
 "nbformat": 4,
 "nbformat_minor": 5
}
