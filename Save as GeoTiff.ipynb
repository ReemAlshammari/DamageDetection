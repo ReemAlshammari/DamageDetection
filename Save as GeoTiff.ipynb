{
 "cells": [
  {
   "cell_type": "code",
   "execution_count": 1,
   "id": "08c2c5c6",
   "metadata": {},
   "outputs": [],
   "source": [
    "    from osgeo import gdal\n",
    "    import numpy as np\n",
    "    #from mpl_toolkits.basemap import Basemap\n",
    "    from scipy.interpolate import griddata\n",
    "    import matplotlib.pyplot as plt\n",
    "        \n",
    "    src_lat='/Users/reem/Documents/DeepLearning/code/showResultOnMap/lat_2.npy'\n",
    "    lat_arr = np.array(np.load(src_lat))\n",
    "    lat_arr = np.flipud(lat_arr) # down-up flip\n",
    "    lat_arr_slice=lat_arr[400:1543 ,0:5313] \n",
    "    \n",
    "    src_lon='/Users/reem/Documents/DeepLearning/code/showResultOnMap/lon_2.npy'\n",
    "    lon_arr = np.array(np.load(src_lon))\n",
    "    lon_arr = np.flipud(lon_arr) # down-up flip\n",
    "    lon_arr_slice=lon_arr[400:1543 ,:]\n",
    " \n"
   ]
  },
  {
   "cell_type": "markdown",
   "id": "0ca2d810",
   "metadata": {},
   "source": [
    "#  Deep Learning Result"
   ]
  },
  {
   "cell_type": "code",
   "execution_count": 2,
   "id": "8da86eee",
   "metadata": {},
   "outputs": [],
   "source": [
    "    \n",
    "    src_z='/Users/reem/Documents/DeepLearning/code/final_scores.npy'\n",
    "    z_score_arr = np.array(np.load(src_z))\n",
    "    z_score_arr = np.flipud(z_score_arr) # down-up flip\n",
    "\n",
    "    score_slice=z_score_arr[400:1543 ,:]"
   ]
  },
  {
   "cell_type": "markdown",
   "id": "888f552c",
   "metadata": {},
   "source": [
    "# Coherence"
   ]
  },
  {
   "cell_type": "code",
   "execution_count": 3,
   "id": "0545e1bc",
   "metadata": {},
   "outputs": [],
   "source": [
    "filepath67 = r\"/Users/reem/projAlaith/merged/interferograms/20181108_20181120/filt_fine.cor\"\n",
    "filepath68 = r\"/Users/reem/projAlaith/merged/interferograms/20181120_20181202/filt_fine.cor\"\n",
    "\n",
    "ds67 = np.array(gdal.Open(filepath67).ReadAsArray())\n",
    "ds68 = np.array(gdal.Open(filepath68).ReadAsArray())\n",
    "\n",
    "CCD=np.subtract(ds67,ds68)\n",
    "#np.save('subtract_coh1108-1120-1202.npy', coh1)\n",
    "CCD = np.flipud(CCD)\n",
    "\n",
    "CCD_slice=CCD[400:1543 ,0:5313]"
   ]
  },
  {
   "cell_type": "markdown",
   "id": "964ef21c",
   "metadata": {},
   "source": [
    "# GeoTif for CCD"
   ]
  },
  {
   "cell_type": "code",
   "execution_count": 7,
   "id": "adc1f905",
   "metadata": {},
   "outputs": [],
   "source": [
    "\n",
    "grid_spacing = 0.0003\n",
    "lon_num=int(2/grid_spacing)\n",
    "lat_num=int(2/grid_spacing)\n",
    "lat_points = np.linspace(19,21, lon_num)\n",
    "lon_points = np.linspace(39,41,lat_num)\n",
    "\n",
    "# target grid to interpolate to\n",
    "lon_grid, lat_grid = np.meshgrid(lon_points,lat_points)\n",
    "lat_grid = np.flipud(lat_grid)# down-up flip\n",
    "\n",
    "z_score_grid_2 = griddata((lon_arr_slice.flatten(),lat_arr_slice.flatten()),CCD_slice.flatten(),(lon_grid,lat_grid))  \n",
    "\n",
    "out_file = 'CCD_Final.geotiff'\n",
    "height,width = np.shape(z_score_grid_2)\n",
    "\n",
    "drv = gdal.GetDriverByName(\"GTiff\")\n",
    "ds = drv.Create(out_file, width, height, 1, gdal.GDT_Float64)\n",
    "# (upper_left_x, x_resolution, x_skew, upper_left_y, y_skew, y_resolution)\n",
    "# Negative grid spacing in y direction because we've flipped this direction\n",
    "\n",
    "ds.SetGeoTransform((lon_grid[0,0],grid_spacing,0,lat_grid[0,0],0,-grid_spacing))\n",
    "ds.SetProjection('EPSG:4326')\n",
    "ds.GetRasterBand(1).WriteArray(z_score_grid_2)\n",
    "ds.FlushCache()\n",
    "del ds"
   ]
  },
  {
   "cell_type": "markdown",
   "id": "2412b3ca",
   "metadata": {},
   "source": [
    "# GeoTif for RNN result"
   ]
  },
  {
   "cell_type": "code",
   "execution_count": 6,
   "id": "89848bc5",
   "metadata": {},
   "outputs": [],
   "source": [
    "\n",
    "grid_spacing = 0.0003\n",
    "lon_num=int(2/grid_spacing)\n",
    "lat_num=int(2/grid_spacing)\n",
    "lat_points = np.linspace(19,21, lon_num)\n",
    "lon_points = np.linspace(39,41,lat_num)\n",
    "\n",
    "# target grid to interpolate to\n",
    "lon_grid, lat_grid = np.meshgrid(lon_points,lat_points)\n",
    "lat_grid = np.flipud(lat_grid)\n",
    "\n",
    "z_score_grid = griddata((lon_arr_slice.flatten(),lat_arr_slice.flatten()),score_slice.flatten(),(lon_grid,lat_grid))  \n",
    "\n",
    "out_file = 'RNN_Final_LS.geotiff'\n",
    "height,width = np.shape(z_score_grid)\n",
    "\n",
    "drv = gdal.GetDriverByName(\"GTiff\")\n",
    "ds = drv.Create(out_file, width, height, 1, gdal.GDT_Float64)\n",
    "# (upper_left_x, x_resolution, x_skew, upper_left_y, y_skew, y_resolution)\n",
    "# Negative grid spacing in y direction because we've flipped this direction\n",
    "\n",
    "ds.SetGeoTransform((lon_grid[0,0],grid_spacing,0,lat_grid[0,0],0,-grid_spacing))\n",
    "ds.SetProjection('EPSG:4326')\n",
    "ds.GetRasterBand(1).WriteArray(z_score_grid)\n",
    "ds.FlushCache()\n",
    "del ds"
   ]
  },
  {
   "cell_type": "markdown",
   "id": "fbd4d1be",
   "metadata": {},
   "source": [
    "# Histogram"
   ]
  },
  {
   "cell_type": "code",
   "execution_count": 6,
   "id": "2ba7dd0c",
   "metadata": {},
   "outputs": [
    {
     "data": {
      "text/plain": [
       "(array([1.608000e+03, 1.069800e+04, 4.315500e+04, 2.000280e+05,\n",
       "        2.526747e+06, 2.933877e+06, 2.914640e+05, 5.593000e+04,\n",
       "        8.439000e+03, 8.130000e+02]),\n",
       " array([-0.785465  , -0.6298002 , -0.47413546, -0.3184707 , -0.16280591,\n",
       "        -0.00714114,  0.14852363,  0.3041884 ,  0.45985317,  0.615518  ,\n",
       "         0.7711827 ], dtype=float32),\n",
       " <BarContainer object of 10 artists>)"
      ]
     },
     "execution_count": 6,
     "metadata": {},
     "output_type": "execute_result"
    },
    {
     "data": {
      "image/png": "[encoded data removed]",
      "text/plain": [
       "<Figure size 432x288 with 1 Axes>"
      ]
     },
     "metadata": {
      "needs_background": "light"
     },
     "output_type": "display_data"
    }
   ],
   "source": [
    "counts, bins = np.histogram(CCD_slice)\n",
    "plt.hist(bins[:-1], bins, weights=counts)"
   ]
  },
  {
   "cell_type": "code",
   "execution_count": 5,
   "id": "c8a090b8",
   "metadata": {},
   "outputs": [
    {
     "data": {
      "text/plain": [
       "(array([6.000000e+00, 2.860000e+02, 1.702800e+04, 1.532959e+06,\n",
       "        4.425460e+06, 9.636600e+04, 6.270000e+02, 2.600000e+01,\n",
       "        0.000000e+00, 1.000000e+00]),\n",
       " array([-12.695 ,  -9.7   ,  -6.71  ,  -3.72  ,  -0.7295,   2.262 ,\n",
       "          5.254 ,   8.24  ,  11.234 ,  14.23  ,  17.22  ], dtype=float16),\n",
       " <BarContainer object of 10 artists>)"
      ]
     },
     "execution_count": 5,
     "metadata": {},
     "output_type": "execute_result"
    },
    {
     "data": {
      "image/png": "[encoded data removed]",
      "text/plain": [
       "<Figure size 432x288 with 1 Axes>"
      ]
     },
     "metadata": {
      "needs_background": "light"
     },
     "output_type": "display_data"
    }
   ],
   "source": [
    "counts, bins = np.histogram(score_slice)\n",
    "plt.hist(bins[:-1], bins, weights=counts)"
   ]
  }
 ],
 "metadata": {
  "kernelspec": {
   "display_name": "Python 3 (ipykernel)",
   "language": "python",
   "name": "python3"
  },
  "language_info": {
   "codemirror_mode": {
    "name": "ipython",
    "version": 3
   },
   "file_extension": ".py",
   "mimetype": "text/x-python",
   "name": "python",
   "nbconvert_exporter": "python",
   "pygments_lexer": "ipython3",
   "version": "3.8.12"
  }
 },
 "nbformat": 4,
 "nbformat_minor": 5
}
