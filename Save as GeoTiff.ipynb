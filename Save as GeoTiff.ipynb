{
 "cells": [
  {
   "cell_type": "code",
   "execution_count": 8,
   "id": "08c2c5c6",
   "metadata": {},
   "outputs": [
    {
     "name": "stdout",
     "output_type": "stream",
     "text": [
      "(1143, 5313)\n",
      "(1143, 5313)\n"
     ]
    }
   ],
   "source": [
    "    from osgeo import gdal\n",
    "    import numpy as np\n",
    "    from mpl_toolkits.basemap import Basemap\n",
    "    from scipy.interpolate import griddata\n",
    "    import matplotlib.pyplot as plt\n",
    "        \n",
    "    src_lat='/Users/reem/Documents/DeepLearning/code/showResultOnMap/lat_2.npy'\n",
    "    lat_arr = np.array(np.load(src_lat))\n",
    "    lat_arr = np.flipud(lat_arr)\n",
    "    lat_arr_slice=lat_arr[400:1543 ,0:5313]#[400:1543 ,3000:4000]\n",
    "    #lat_arr_slice=lat_arr\n",
    "    print(lat_arr_slice.shape)\n",
    "    \n",
    "    src_lon='/Users/reem/Documents/DeepLearning/code/showResultOnMap/lon_2.npy'\n",
    "    lon_arr = np.array(np.load(src_lon))\n",
    "    lon_arr = np.flipud(lon_arr)\n",
    "    lon_arr_slice=lon_arr[400:1543 ,0:5313]#[400:1543 ,3000:4000]\n",
    "    #lon_arr_slice=lon_arr\n",
    "    print(lon_arr_slice.shape)\n",
    "    #40.2454779-40.51611526=0.27063736\n",
    "    #all columns 303900\n",
    "    #20.04350782 20.20601595=0.16250813\n",
    "    "
   ]
  },
  {
   "cell_type": "markdown",
   "id": "0ca2d810",
   "metadata": {},
   "source": [
    "#  Deep Learning Result"
   ]
  },
  {
   "cell_type": "code",
   "execution_count": 9,
   "id": "8da86eee",
   "metadata": {},
   "outputs": [],
   "source": [
    "    \n",
    "    src_z='/Users/reem/Documents/DeepLearning/code/showResultOnMap/scores.npy'\n",
    "    z_score_arr = np.array(np.load(src_z))\n",
    "    z_score_arr = np.flipud(z_score_arr)\n",
    "\n",
    "    score_slice=z_score_arr[400:1543 ,:]"
   ]
  },
  {
   "cell_type": "markdown",
   "id": "888f552c",
   "metadata": {},
   "source": [
    "# Coherence"
   ]
  },
  {
   "cell_type": "code",
   "execution_count": 6,
   "id": "0545e1bc",
   "metadata": {},
   "outputs": [],
   "source": [
    "filepath67 = r\"/Users/reem/projAlaith/merged/interferograms/20181108_20181120/filt_fine.cor\"\n",
    "filepath68 = r\"/Users/reem/projAlaith/merged/interferograms/20181120_20181202/filt_fine.cor\"\n",
    "\n",
    "ds67 = np.array(gdal.Open(filepath67).ReadAsArray())\n",
    "ds68 = np.array(gdal.Open(filepath68).ReadAsArray())\n",
    "\n",
    "coh1=np.subtract(ds67,ds68)\n",
    "#np.save('subtract_coh1108-1120-1202.npy', coh1)\n",
    "coh1 = np.flipud(coh1)\n",
    "\n",
    "coh1_slice=coh1[400:1543 ,0:5313]"
   ]
  },
  {
   "cell_type": "markdown",
   "id": "964ef21c",
   "metadata": {},
   "source": [
    "# GeoTif"
   ]
  },
  {
   "cell_type": "code",
   "execution_count": 7,
   "id": "adc1f905",
   "metadata": {},
   "outputs": [],
   "source": [
    "\n",
    "grid_spacing = 0.0003\n",
    "lon_num=int(2/grid_spacing)#lon_arr_slice.flatten().shape\n",
    "lat_num=int(2/grid_spacing)#lat_arr_slice.flatten().shape\n",
    "lat_points = np.linspace(19,21, lon_num)\n",
    "lon_points = np.linspace(39,41,lat_num)\n",
    "\n",
    "# target grid to interpolate to\n",
    "lon_grid, lat_grid = np.meshgrid(lon_points,lat_points)\n",
    "lat_grid = np.flipud(lat_grid)\n",
    "\n",
    "z_score_grid_2 = griddata((lon_arr_slice.flatten(),lat_arr_slice.flatten()),coh1_slice.flatten(),(lon_grid,lat_grid))  \n",
    "\n",
    "out_file = 'CCD_Final.geotiff'\n",
    "height,width = np.shape(z_score_grid_2)\n",
    "\n",
    "drv = gdal.GetDriverByName(\"GTiff\")\n",
    "ds = drv.Create(out_file, width, height, 1, gdal.GDT_Float64)\n",
    "# (upper_left_x, x_resolution, x_skew, upper_left_y, y_skew, y_resolution)\n",
    "# Negative grid spacing in y direction because we've flipped this direction\n",
    "\n",
    "ds.SetGeoTransform((lon_grid[0,0],grid_spacing,0,lat_grid[0,0],0,-grid_spacing))\n",
    "ds.SetProjection('EPSG:4326')\n",
    "ds.GetRasterBand(1).WriteArray(z_score_grid_2)\n",
    "ds.FlushCache()\n",
    "del ds"
   ]
  },
  {
   "cell_type": "code",
   "execution_count": null,
   "id": "65aa684f",
   "metadata": {},
   "outputs": [],
   "source": []
  },
  {
   "cell_type": "code",
   "execution_count": 11,
   "id": "89848bc5",
   "metadata": {},
   "outputs": [],
   "source": [
    "\n",
    "grid_spacing = 0.0003\n",
    "lon_num=int(2/grid_spacing)#lon_arr_slice.flatten().shape\n",
    "lat_num=int(2/grid_spacing)#lat_arr_slice.flatten().shape\n",
    "lat_points = np.linspace(19,21, lon_num)\n",
    "lon_points = np.linspace(39,41,lat_num)\n",
    "\n",
    "# target grid to interpolate to\n",
    "lon_grid, lat_grid = np.meshgrid(lon_points,lat_points)\n",
    "lat_grid = np.flipud(lat_grid)\n",
    "\n",
    "z_score_grid = griddata((lon_arr_slice.flatten(),lat_arr_slice.flatten()),score_slice.flatten(),(lon_grid,lat_grid))  \n",
    "\n",
    "out_file = 'RNN_Final.geotiff'\n",
    "height,width = np.shape(z_score_grid)\n",
    "\n",
    "drv = gdal.GetDriverByName(\"GTiff\")\n",
    "ds = drv.Create(out_file, width, height, 1, gdal.GDT_Float64)\n",
    "# (upper_left_x, x_resolution, x_skew, upper_left_y, y_skew, y_resolution)\n",
    "# Negative grid spacing in y direction because we've flipped this direction\n",
    "\n",
    "ds.SetGeoTransform((lon_grid[0,0],grid_spacing,0,lat_grid[0,0],0,-grid_spacing))\n",
    "ds.SetProjection('EPSG:4326')\n",
    "ds.GetRasterBand(1).WriteArray(z_score_grid)\n",
    "ds.FlushCache()\n",
    "del ds"
   ]
  },
  {
   "cell_type": "markdown",
   "id": "fbd4d1be",
   "metadata": {},
   "source": [
    "# Histogram"
   ]
  },
  {
   "cell_type": "code",
   "execution_count": null,
   "id": "2ba7dd0c",
   "metadata": {},
   "outputs": [],
   "source": [
    "counts, bins = np.histogram(coh1)\n",
    "plt.hist(bins[:-1], bins, weights=counts)"
   ]
  }
 ],
 "metadata": {
  "kernelspec": {
   "display_name": "Python 3 (ipykernel)",
   "language": "python",
   "name": "python3"
  },
  "language_info": {
   "codemirror_mode": {
    "name": "ipython",
    "version": 3
   },
   "file_extension": ".py",
   "mimetype": "text/x-python",
   "name": "python",
   "nbconvert_exporter": "python",
   "pygments_lexer": "ipython3",
   "version": "3.8.12"
  }
 },
 "nbformat": 4,
 "nbformat_minor": 5
}
